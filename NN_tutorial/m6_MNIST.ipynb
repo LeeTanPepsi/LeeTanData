{
 "cells": [
  {
   "cell_type": "code",
   "execution_count": 1,
   "metadata": {
    "collapsed": true
   },
   "outputs": [],
   "source": [
    "# Numpy for matrix math \n",
    "import numpy as np\n",
    "# matplotlib pyplot for visualizations\n",
    "import matplotlib.pyplot as plt\n",
    "# Abstract Base Class\n",
    "from abc import ABC, abstractmethod\n",
    "# pip install mnist for the dataset\n",
    "import mnist\n",
    "\n",
    "# Lets grab MNIST images\n",
    "train_images = mnist.train_images()\n",
    "train_labels = mnist.train_labels()\n",
    "test_images = mnist.test_images()\n",
    "test_labels = mnist.test_labels()\n",
    "\n",
    "MOMENTUM = .9"
   ]
  },
  {
   "cell_type": "code",
   "execution_count": 2,
   "metadata": {},
   "outputs": [
    {
     "data": {
      "image/png": "[encoded data removed]",
      "text/plain": [
       "<matplotlib.figure.Figure at 0x7f5c1d3c3400>"
      ]
     },
     "metadata": {},
     "output_type": "display_data"
    }
   ],
   "source": [
    "train_images, test_images = [img / train_images.max() for img in [train_images, test_images]]\n",
    "plt.imshow(train_images[0,:,:])\n",
    "plt.colorbar()\n",
    "plt.show()"
   ]
  },
  {
   "cell_type": "code",
   "execution_count": 15,
   "metadata": {},
   "outputs": [],
   "source": [
    "\n",
    "def l2_loss(y, yhat):\n",
    "    loss_matrix = np.square(yhat - y)\n",
    "    loss_gradient = 2 * (yhat - y)\n",
    "    return loss_matrix, loss_gradient\n",
    "\n",
    "def get_one_hot(targets, n_classes):\n",
    "    res = np.eye(n_classes)[np.array(targets).reshape(-1)]\n",
    "    return res.reshape(list(targets.shape)+[n_classes])\n",
    "\n",
    "def apply_linear_momentum(prev_momentum, grad_parameter, momentum):\n",
    "    # Calculate momentum update by linear momentum method\n",
    "    assert momentum <= 1 and momentum >= 0\n",
    "\n",
    "    return prev_momentum * momentum + grad_parameter * (1 - momentum)\n",
    "\n",
    "\n",
    "class Layer(ABC):\n",
    "    @abstractmethod\n",
    "    def __init__(self, **args):\n",
    "        pass\n",
    "\n",
    "    @abstractmethod\n",
    "    def forward(self, x):\n",
    "        # Forward propagate. Remember params needed for backprop\n",
    "        pass\n",
    "\n",
    "    @abstractmethod\n",
    "    def backward(self, x):\n",
    "        # Return gradient to input, gradient to parameters\n",
    "        pass\n",
    "\n",
    "    def step(self, learning_rate):\n",
    "        pass\n",
    "\n",
    "\n",
    "class Lrelu(Layer):\n",
    "    def __init__(self, input_layer=None, in_size=None):\n",
    "        self.out_size = input_layer if input_layer is not None else in_size\n",
    "\n",
    "    def forward(self, x):\n",
    "        return np.maximum(x, x * .1)\n",
    "\n",
    "    def backward(self, out_grad):\n",
    "        grad_back = np.where(out_grad > 0, out_grad, out_grad * .1)\n",
    "        return grad_back\n",
    "\n",
    "\n",
    "class Linear(Layer):\n",
    "    def __init__(self, input_layer=None, in_size=None, out_size=None):\n",
    "        self.in_size = input_layer if input_layer is not None else in_size\n",
    "        self.out_size = out_size\n",
    "        self.w = np.random.randn(in_size, out_size)\n",
    "        self.vel = np.zeros((in_size, out_size))\n",
    "\n",
    "    def forward(self, x):\n",
    "        self.prev_input = x\n",
    "        return np.matmul(x, self.w)\n",
    "\n",
    "    def backward(self, out_grad):\n",
    "        # in_size, BS * BS, out_size = in_size, out_size\n",
    "        raw_grad_w = np.matmul(self.prev_input.T, out_grad)\n",
    "        self.grad_w = np.clip(raw_grad_w, -1, 1)\n",
    "\n",
    "        # BS, out_size * out_size, in_size = BS, in_size\n",
    "        return np.matmul(out_grad, self.w.T)\n",
    "\n",
    "    def step(self, learning_rate):\n",
    "        self.vel = apply_linear_momentum(self.vel, self.grad_w, MOMENTUM)\n",
    "        self.w = self.w - self.vel * learning_rate\n",
    "\n",
    "\n",
    "class MultiLayerPerceptron():\n",
    "    def __init__(self, layers, loss_fcn):\n",
    "        self.layers = layers\n",
    "        self.loss_fcn = loss_fcn\n",
    "\n",
    "    def forward(self, x):\n",
    "        for layer in self.layers:\n",
    "            x = layer.forward(x)\n",
    "        yhat = x\n",
    "        return yhat\n",
    "\n",
    "    def backward(self, loss_gradient):\n",
    "        for layer in self.layers[::-1]:\n",
    "            loss_gradient = layer.backward(loss_gradient)\n",
    "\n",
    "    def loss(self, y, yhat):\n",
    "        loss_matrix, loss_gradient = self.loss_fcn(y, yhat)\n",
    "        return loss_matrix, loss_gradient\n",
    "\n",
    "    def step(self, learning_rate):\n",
    "        for layer in self.layers:\n",
    "            layer.step(learning_rate)\n",
    "    \n",
    "    def get_accuracy(self, x, y):\n",
    "        yhat = self.forward(x)\n",
    "        predictions = np.argmax(yhat, 1)\n",
    "        return (predictions == y).mean()\n",
    "\n",
    "\n",
    "class Trainer():\n",
    "    def __init__(self, model):\n",
    "        self.model = model\n",
    "        self.train_accuracies = []\n",
    "        self.val_accuracies = []\n",
    "        self.steps = 0\n",
    "\n",
    "    def optimize(self, x, y, learning_rate):\n",
    "        model = self.model\n",
    "        yhat = model.forward(x)\n",
    "        _, loss_gradient = model.loss(y, yhat)\n",
    "        model.backward(loss_gradient)\n",
    "        model.step(learning_rate)\n",
    "\n",
    "    def train_n_steps(self, x_train, train_labels, x_test, test_labels, n, bs, val_every_n):\n",
    "        y_train = get_one_hot(train_labels, num_classes)\n",
    "        y_test = get_one_hot(test_labels, num_classes)\n",
    "        for idx in range(n):\n",
    "            samples = np.random.choice(x_train.shape[0], size=bs)\n",
    "            x = x_train[samples,:]\n",
    "            y = y_train[samples,:]\n",
    "            self.steps += 1\n",
    "            self.optimize(x, y, learning_rate=1 / (self.steps + 100))\n",
    "            if idx % val_every_n == 0:\n",
    "                trn_acc = self.model.get_accuracy(x_train, train_labels)\n",
    "                val_acc = self.model.get_accuracy(x_test, test_labels)\n",
    "                self.train_accuracies.append(trn_acc)\n",
    "                self.val_accuracies.append(val_acc)\n",
    "        self.visualize()\n",
    "        \n",
    "    def visualize(self, skip_first=0):\n",
    "        plt.plot(self.train_accuracies, label = 'train accuracy')\n",
    "        plt.plot(self.val_accuracies, label = 'val accuracy')\n",
    "        plt.legend()\n",
    "        plt.title('basic mnist model approaches ' + str(self.train_accuracies[-1])[:5])\n",
    "        plt.savefig('model_6_mnnist.jpg')\n",
    "        plt.show()"
   ]
  },
  {
   "cell_type": "code",
   "execution_count": 16,
   "metadata": {
    "collapsed": true
   },
   "outputs": [],
   "source": [
    "x_train = np.reshape(train_images, [train_images.shape[0], -1])\n",
    "x_test = np.reshape(test_images, [test_images.shape[0], -1])"
   ]
  },
  {
   "cell_type": "code",
   "execution_count": 18,
   "metadata": {},
   "outputs": [
    {
     "data": {
      "image/png": "[encoded data removed]",
      "text/plain": [
       "<matplotlib.figure.Figure at 0x7f5c1de9d7f0>"
      ]
     },
     "metadata": {},
     "output_type": "display_data"
    }
   ],
   "source": [
    "\n",
    "num_classes = len(np.unique(train_labels))\n",
    "# N is number of data points; BS is batch size; D_in is input dimension;\n",
    "# H is hidden dimension; D_out is output dimension.\n",
    "N, bs, D_in, H, D_out = x_train.shape[0], 64, x_train.shape[1], 100, num_classes\n",
    "\n",
    "sizes = [D_in, H, D_out]\n",
    "\n",
    "layers = []\n",
    "layers.append(Linear(in_size=D_in, out_size=H))\n",
    "layers.append(Lrelu(in_size=H))\n",
    "layers.append(Linear(in_size=H, out_size=D_out))\n",
    "\n",
    "model = MultiLayerPerceptron(layers, loss_fcn=l2_loss)\n",
    "\n",
    "trainer = Trainer(model)\n",
    "trainer.train_n_steps(x_train = x_train, train_labels = train_labels, x_test = x_test, test_labels = test_labels,\n",
    "                      n=5000, bs = bs, val_every_n = 100)\n"
   ]
  },
  {
   "cell_type": "code",
   "execution_count": 19,
   "metadata": {},
   "outputs": [
    {
     "data": {
      "text/plain": [
       "array([[ 0.11704288, -0.54909858, -4.27433699, ...,  1.84984385,\n",
       "         3.7250286 ,  0.64133816],\n",
       "       [ 1.26697949, -0.92200801,  1.64394044, ..., -0.28273998,\n",
       "        -1.0281531 , -0.50805879],\n",
       "       [ 2.44257338, -1.08026156,  2.12737914, ...,  3.00283342,\n",
       "         1.31972841, -0.96519027],\n",
       "       ...,\n",
       "       [ 5.91761466,  1.27283066,  2.62526336, ...,  1.01443245,\n",
       "        -2.32581779, -2.7873632 ],\n",
       "       [ 0.65041927, -6.49802078, -0.64399053, ...,  1.29759281,\n",
       "        -6.19310151, -5.4771352 ],\n",
       "       [-0.61459721, -2.8853915 , -0.92673764, ..., -3.87033439,\n",
       "        -7.02025348, -4.06922127]])"
      ]
     },
     "execution_count": 19,
     "metadata": {},
     "output_type": "execute_result"
    }
   ],
   "source": [
    "np.argmax(model.forward(x_train),"
   ]
  },
  {
   "cell_type": "code",
   "execution_count": null,
   "metadata": {},
   "outputs": [],
   "source": []
  },
  {
   "cell_type": "code",
   "execution_count": null,
   "metadata": {
    "collapsed": true
   },
   "outputs": [],
   "source": []
  },
  {
   "cell_type": "code",
   "execution_count": null,
   "metadata": {
    "collapsed": true
   },
   "outputs": [],
   "source": []
  },
  {
   "cell_type": "code",
   "execution_count": null,
   "metadata": {
    "collapsed": true
   },
   "outputs": [],
   "source": []
  },
  {
   "cell_type": "code",
   "execution_count": null,
   "metadata": {
    "collapsed": true
   },
   "outputs": [],
   "source": []
  },
  {
   "cell_type": "code",
   "execution_count": null,
   "metadata": {
    "collapsed": true
   },
   "outputs": [],
   "source": []
  },
  {
   "cell_type": "code",
   "execution_count": null,
   "metadata": {
    "collapsed": true
   },
   "outputs": [],
   "source": []
  },
  {
   "cell_type": "code",
   "execution_count": null,
   "metadata": {
    "collapsed": true
   },
   "outputs": [],
   "source": []
  }
 ],
 "metadata": {
  "kernelspec": {
   "display_name": "Python 3",
   "language": "python",
   "name": "python3"
  },
  "language_info": {
   "codemirror_mode": {
    "name": "ipython",
    "version": 3
   },
   "file_extension": ".py",
   "mimetype": "text/x-python",
   "name": "python",
   "nbconvert_exporter": "python",
   "pygments_lexer": "ipython3",
   "version": "3.6.4"
  }
 },
 "nbformat": 4,
 "nbformat_minor": 2
}
